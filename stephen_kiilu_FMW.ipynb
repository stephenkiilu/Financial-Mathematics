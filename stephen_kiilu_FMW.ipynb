{
 "cells": [
  {
   "cell_type": "code",
   "execution_count": 2,
   "metadata": {},
   "outputs": [],
   "source": [
    "import numpy as np\n",
    "import pandas as pd\n",
    "from pandas_datareader import data\n",
    "import matplotlib.pyplot as plt"
   ]
  },
  {
   "cell_type": "code",
   "execution_count": 3,
   "metadata": {},
   "outputs": [
    {
     "data": {
      "text/html": [
       "<div>\n",
       "<style scoped>\n",
       "    .dataframe tbody tr th:only-of-type {\n",
       "        vertical-align: middle;\n",
       "    }\n",
       "\n",
       "    .dataframe tbody tr th {\n",
       "        vertical-align: top;\n",
       "    }\n",
       "\n",
       "    .dataframe thead tr th {\n",
       "        text-align: left;\n",
       "    }\n",
       "\n",
       "    .dataframe thead tr:last-of-type th {\n",
       "        text-align: right;\n",
       "    }\n",
       "</style>\n",
       "<table border=\"1\" class=\"dataframe\">\n",
       "  <thead>\n",
       "    <tr>\n",
       "      <th>Attributes</th>\n",
       "      <th colspan=\"4\" halign=\"left\">Adj Close</th>\n",
       "      <th colspan=\"4\" halign=\"left\">Close</th>\n",
       "      <th colspan=\"2\" halign=\"left\">High</th>\n",
       "      <th>...</th>\n",
       "      <th colspan=\"2\" halign=\"left\">Low</th>\n",
       "      <th colspan=\"4\" halign=\"left\">Open</th>\n",
       "      <th colspan=\"4\" halign=\"left\">Volume</th>\n",
       "    </tr>\n",
       "    <tr>\n",
       "      <th>Symbols</th>\n",
       "      <th>GOOGL</th>\n",
       "      <th>AAPL</th>\n",
       "      <th>AMZN</th>\n",
       "      <th>NKE</th>\n",
       "      <th>GOOGL</th>\n",
       "      <th>AAPL</th>\n",
       "      <th>AMZN</th>\n",
       "      <th>NKE</th>\n",
       "      <th>GOOGL</th>\n",
       "      <th>AAPL</th>\n",
       "      <th>...</th>\n",
       "      <th>AMZN</th>\n",
       "      <th>NKE</th>\n",
       "      <th>GOOGL</th>\n",
       "      <th>AAPL</th>\n",
       "      <th>AMZN</th>\n",
       "      <th>NKE</th>\n",
       "      <th>GOOGL</th>\n",
       "      <th>AAPL</th>\n",
       "      <th>AMZN</th>\n",
       "      <th>NKE</th>\n",
       "    </tr>\n",
       "    <tr>\n",
       "      <th>Date</th>\n",
       "      <th></th>\n",
       "      <th></th>\n",
       "      <th></th>\n",
       "      <th></th>\n",
       "      <th></th>\n",
       "      <th></th>\n",
       "      <th></th>\n",
       "      <th></th>\n",
       "      <th></th>\n",
       "      <th></th>\n",
       "      <th></th>\n",
       "      <th></th>\n",
       "      <th></th>\n",
       "      <th></th>\n",
       "      <th></th>\n",
       "      <th></th>\n",
       "      <th></th>\n",
       "      <th></th>\n",
       "      <th></th>\n",
       "      <th></th>\n",
       "      <th></th>\n",
       "    </tr>\n",
       "  </thead>\n",
       "  <tbody>\n",
       "    <tr>\n",
       "      <td>2018-01-02</td>\n",
       "      <td>1073.209961</td>\n",
       "      <td>41.380238</td>\n",
       "      <td>1189.010010</td>\n",
       "      <td>61.411564</td>\n",
       "      <td>1073.209961</td>\n",
       "      <td>43.064999</td>\n",
       "      <td>1189.010010</td>\n",
       "      <td>63.490002</td>\n",
       "      <td>1075.979980</td>\n",
       "      <td>43.075001</td>\n",
       "      <td>...</td>\n",
       "      <td>1170.510010</td>\n",
       "      <td>62.849998</td>\n",
       "      <td>1053.020020</td>\n",
       "      <td>42.540001</td>\n",
       "      <td>1172.000000</td>\n",
       "      <td>62.849998</td>\n",
       "      <td>1588300.0</td>\n",
       "      <td>102223600.0</td>\n",
       "      <td>2694500.0</td>\n",
       "      <td>6511000.0</td>\n",
       "    </tr>\n",
       "    <tr>\n",
       "      <td>2018-01-03</td>\n",
       "      <td>1091.520020</td>\n",
       "      <td>41.373032</td>\n",
       "      <td>1204.199951</td>\n",
       "      <td>61.401890</td>\n",
       "      <td>1091.520020</td>\n",
       "      <td>43.057499</td>\n",
       "      <td>1204.199951</td>\n",
       "      <td>63.480000</td>\n",
       "      <td>1096.099976</td>\n",
       "      <td>43.637501</td>\n",
       "      <td>...</td>\n",
       "      <td>1188.300049</td>\n",
       "      <td>62.759998</td>\n",
       "      <td>1073.930054</td>\n",
       "      <td>43.132500</td>\n",
       "      <td>1188.300049</td>\n",
       "      <td>63.480000</td>\n",
       "      <td>1565900.0</td>\n",
       "      <td>118071600.0</td>\n",
       "      <td>3108800.0</td>\n",
       "      <td>6091100.0</td>\n",
       "    </tr>\n",
       "    <tr>\n",
       "      <td>2018-01-04</td>\n",
       "      <td>1095.760010</td>\n",
       "      <td>41.565216</td>\n",
       "      <td>1209.589966</td>\n",
       "      <td>61.363197</td>\n",
       "      <td>1095.760010</td>\n",
       "      <td>43.257500</td>\n",
       "      <td>1209.589966</td>\n",
       "      <td>63.439999</td>\n",
       "      <td>1104.079956</td>\n",
       "      <td>43.367500</td>\n",
       "      <td>...</td>\n",
       "      <td>1204.660034</td>\n",
       "      <td>62.549999</td>\n",
       "      <td>1097.089966</td>\n",
       "      <td>43.134998</td>\n",
       "      <td>1205.000000</td>\n",
       "      <td>63.400002</td>\n",
       "      <td>1302600.0</td>\n",
       "      <td>89738400.0</td>\n",
       "      <td>3022100.0</td>\n",
       "      <td>5780500.0</td>\n",
       "    </tr>\n",
       "    <tr>\n",
       "      <td>2018-01-05</td>\n",
       "      <td>1110.290039</td>\n",
       "      <td>42.038452</td>\n",
       "      <td>1229.140015</td>\n",
       "      <td>61.885525</td>\n",
       "      <td>1110.290039</td>\n",
       "      <td>43.750000</td>\n",
       "      <td>1229.140015</td>\n",
       "      <td>63.980000</td>\n",
       "      <td>1113.579956</td>\n",
       "      <td>43.842499</td>\n",
       "      <td>...</td>\n",
       "      <td>1210.000000</td>\n",
       "      <td>63.470001</td>\n",
       "      <td>1103.449951</td>\n",
       "      <td>43.360001</td>\n",
       "      <td>1217.510010</td>\n",
       "      <td>63.700001</td>\n",
       "      <td>1512500.0</td>\n",
       "      <td>94640000.0</td>\n",
       "      <td>3544700.0</td>\n",
       "      <td>11632300.0</td>\n",
       "    </tr>\n",
       "    <tr>\n",
       "      <td>2018-01-08</td>\n",
       "      <td>1114.209961</td>\n",
       "      <td>41.882305</td>\n",
       "      <td>1246.869995</td>\n",
       "      <td>62.436867</td>\n",
       "      <td>1114.209961</td>\n",
       "      <td>43.587502</td>\n",
       "      <td>1246.869995</td>\n",
       "      <td>64.550003</td>\n",
       "      <td>1119.160034</td>\n",
       "      <td>43.902500</td>\n",
       "      <td>...</td>\n",
       "      <td>1232.030029</td>\n",
       "      <td>63.980000</td>\n",
       "      <td>1111.000000</td>\n",
       "      <td>43.587502</td>\n",
       "      <td>1236.000000</td>\n",
       "      <td>64.150002</td>\n",
       "      <td>1232200.0</td>\n",
       "      <td>82271200.0</td>\n",
       "      <td>4279500.0</td>\n",
       "      <td>11905700.0</td>\n",
       "    </tr>\n",
       "  </tbody>\n",
       "</table>\n",
       "<p>5 rows × 24 columns</p>\n",
       "</div>"
      ],
      "text/plain": [
       "Attributes    Adj Close                                           Close  \\\n",
       "Symbols           GOOGL       AAPL         AMZN        NKE        GOOGL   \n",
       "Date                                                                      \n",
       "2018-01-02  1073.209961  41.380238  1189.010010  61.411564  1073.209961   \n",
       "2018-01-03  1091.520020  41.373032  1204.199951  61.401890  1091.520020   \n",
       "2018-01-04  1095.760010  41.565216  1209.589966  61.363197  1095.760010   \n",
       "2018-01-05  1110.290039  42.038452  1229.140015  61.885525  1110.290039   \n",
       "2018-01-08  1114.209961  41.882305  1246.869995  62.436867  1114.209961   \n",
       "\n",
       "Attributes                                            High             ...  \\\n",
       "Symbols          AAPL         AMZN        NKE        GOOGL       AAPL  ...   \n",
       "Date                                                                   ...   \n",
       "2018-01-02  43.064999  1189.010010  63.490002  1075.979980  43.075001  ...   \n",
       "2018-01-03  43.057499  1204.199951  63.480000  1096.099976  43.637501  ...   \n",
       "2018-01-04  43.257500  1209.589966  63.439999  1104.079956  43.367500  ...   \n",
       "2018-01-05  43.750000  1229.140015  63.980000  1113.579956  43.842499  ...   \n",
       "2018-01-08  43.587502  1246.869995  64.550003  1119.160034  43.902500  ...   \n",
       "\n",
       "Attributes          Low                    Open                          \\\n",
       "Symbols            AMZN        NKE        GOOGL       AAPL         AMZN   \n",
       "Date                                                                      \n",
       "2018-01-02  1170.510010  62.849998  1053.020020  42.540001  1172.000000   \n",
       "2018-01-03  1188.300049  62.759998  1073.930054  43.132500  1188.300049   \n",
       "2018-01-04  1204.660034  62.549999  1097.089966  43.134998  1205.000000   \n",
       "2018-01-05  1210.000000  63.470001  1103.449951  43.360001  1217.510010   \n",
       "2018-01-08  1232.030029  63.980000  1111.000000  43.587502  1236.000000   \n",
       "\n",
       "Attributes                Volume                                      \n",
       "Symbols           NKE      GOOGL         AAPL       AMZN         NKE  \n",
       "Date                                                                  \n",
       "2018-01-02  62.849998  1588300.0  102223600.0  2694500.0   6511000.0  \n",
       "2018-01-03  63.480000  1565900.0  118071600.0  3108800.0   6091100.0  \n",
       "2018-01-04  63.400002  1302600.0   89738400.0  3022100.0   5780500.0  \n",
       "2018-01-05  63.700001  1512500.0   94640000.0  3544700.0  11632300.0  \n",
       "2018-01-08  64.150002  1232200.0   82271200.0  4279500.0  11905700.0  \n",
       "\n",
       "[5 rows x 24 columns]"
      ]
     },
     "execution_count": 3,
     "metadata": {},
     "output_type": "execute_result"
    }
   ],
   "source": [
    "data = data.DataReader([\"GOOGL\",\"AAPL\", \"AMZN\",\"NKE\"],\"yahoo\", start = \"2018/01/01\",end =\"2019/12/31\") #importing data\n",
    "data.head()"
   ]
  },
  {
   "cell_type": "code",
   "execution_count": 4,
   "metadata": {},
   "outputs": [
    {
     "data": {
      "text/html": [
       "<div>\n",
       "<style scoped>\n",
       "    .dataframe tbody tr th:only-of-type {\n",
       "        vertical-align: middle;\n",
       "    }\n",
       "\n",
       "    .dataframe tbody tr th {\n",
       "        vertical-align: top;\n",
       "    }\n",
       "\n",
       "    .dataframe thead th {\n",
       "        text-align: right;\n",
       "    }\n",
       "</style>\n",
       "<table border=\"1\" class=\"dataframe\">\n",
       "  <thead>\n",
       "    <tr style=\"text-align: right;\">\n",
       "      <th>Symbols</th>\n",
       "      <th>GOOGL</th>\n",
       "      <th>AAPL</th>\n",
       "      <th>AMZN</th>\n",
       "      <th>NKE</th>\n",
       "    </tr>\n",
       "    <tr>\n",
       "      <th>Date</th>\n",
       "      <th></th>\n",
       "      <th></th>\n",
       "      <th></th>\n",
       "      <th></th>\n",
       "    </tr>\n",
       "  </thead>\n",
       "  <tbody>\n",
       "    <tr>\n",
       "      <td>2018-01-02</td>\n",
       "      <td>1073.209961</td>\n",
       "      <td>41.380238</td>\n",
       "      <td>1189.010010</td>\n",
       "      <td>61.411564</td>\n",
       "    </tr>\n",
       "    <tr>\n",
       "      <td>2018-01-03</td>\n",
       "      <td>1091.520020</td>\n",
       "      <td>41.373032</td>\n",
       "      <td>1204.199951</td>\n",
       "      <td>61.401890</td>\n",
       "    </tr>\n",
       "    <tr>\n",
       "      <td>2018-01-04</td>\n",
       "      <td>1095.760010</td>\n",
       "      <td>41.565216</td>\n",
       "      <td>1209.589966</td>\n",
       "      <td>61.363197</td>\n",
       "    </tr>\n",
       "    <tr>\n",
       "      <td>2018-01-05</td>\n",
       "      <td>1110.290039</td>\n",
       "      <td>42.038452</td>\n",
       "      <td>1229.140015</td>\n",
       "      <td>61.885525</td>\n",
       "    </tr>\n",
       "    <tr>\n",
       "      <td>2018-01-08</td>\n",
       "      <td>1114.209961</td>\n",
       "      <td>41.882305</td>\n",
       "      <td>1246.869995</td>\n",
       "      <td>62.436867</td>\n",
       "    </tr>\n",
       "  </tbody>\n",
       "</table>\n",
       "</div>"
      ],
      "text/plain": [
       "Symbols           GOOGL       AAPL         AMZN        NKE\n",
       "Date                                                      \n",
       "2018-01-02  1073.209961  41.380238  1189.010010  61.411564\n",
       "2018-01-03  1091.520020  41.373032  1204.199951  61.401890\n",
       "2018-01-04  1095.760010  41.565216  1209.589966  61.363197\n",
       "2018-01-05  1110.290039  42.038452  1229.140015  61.885525\n",
       "2018-01-08  1114.209961  41.882305  1246.869995  62.436867"
      ]
     },
     "execution_count": 4,
     "metadata": {},
     "output_type": "execute_result"
    }
   ],
   "source": [
    "data1 = data['Adj Close']##the columns I need for my analysis\n",
    "data1.head()"
   ]
  },
  {
   "cell_type": "markdown",
   "metadata": {},
   "source": [
    "# Portfolio expected return"
   ]
  },
  {
   "cell_type": "code",
   "execution_count": 5,
   "metadata": {},
   "outputs": [
    {
     "data": {
      "text/plain": [
       "Symbols\n",
       "GOOGL    0.281762\n",
       "AAPL     0.889578\n",
       "AMZN     0.230278\n",
       "NKE      0.380941\n",
       "dtype: float64"
      ]
     },
     "execution_count": 5,
     "metadata": {},
     "output_type": "execute_result"
    }
   ],
   "source": [
    "R_bar = data1.resample('Y').last().pct_change().mean() ##Mean return\n",
    "R_bar"
   ]
  },
  {
   "cell_type": "code",
   "execution_count": 6,
   "metadata": {},
   "outputs": [
    {
     "data": {
      "text/plain": [
       "0.39741877487089966"
      ]
     },
     "execution_count": 6,
     "metadata": {},
     "output_type": "execute_result"
    }
   ],
   "source": [
    "#Portfolio returns\n",
    "w = [0.1,0.2,0.5,0.2]\n",
    "port_rt = (w * R_bar).sum()\n",
    "port_rt\n"
   ]
  },
  {
   "cell_type": "markdown",
   "metadata": {},
   "source": [
    "# Efficient Frontier"
   ]
  },
  {
   "cell_type": "code",
   "execution_count": 7,
   "metadata": {},
   "outputs": [],
   "source": [
    "p_ret =[] # empty array for portifolio\n",
    "p_vol = [] # empty array for portfolio volatility\n",
    "p_weights = [] # empty array for assets weights\n",
    "\n",
    "num_assets = len(data1.columns)\n",
    "num_portfolios = 10000"
   ]
  },
  {
   "cell_type": "code",
   "execution_count": 8,
   "metadata": {},
   "outputs": [
    {
     "data": {
      "text/html": [
       "<div>\n",
       "<style scoped>\n",
       "    .dataframe tbody tr th:only-of-type {\n",
       "        vertical-align: middle;\n",
       "    }\n",
       "\n",
       "    .dataframe tbody tr th {\n",
       "        vertical-align: top;\n",
       "    }\n",
       "\n",
       "    .dataframe thead th {\n",
       "        text-align: right;\n",
       "    }\n",
       "</style>\n",
       "<table border=\"1\" class=\"dataframe\">\n",
       "  <thead>\n",
       "    <tr style=\"text-align: right;\">\n",
       "      <th>Symbols</th>\n",
       "      <th>GOOGL</th>\n",
       "      <th>AAPL</th>\n",
       "      <th>AMZN</th>\n",
       "      <th>NKE</th>\n",
       "    </tr>\n",
       "    <tr>\n",
       "      <th>Symbols</th>\n",
       "      <th></th>\n",
       "      <th></th>\n",
       "      <th></th>\n",
       "      <th></th>\n",
       "    </tr>\n",
       "  </thead>\n",
       "  <tbody>\n",
       "    <tr>\n",
       "      <td>GOOGL</td>\n",
       "      <td>0.000269</td>\n",
       "      <td>0.000178</td>\n",
       "      <td>0.000216</td>\n",
       "      <td>0.000119</td>\n",
       "    </tr>\n",
       "    <tr>\n",
       "      <td>AAPL</td>\n",
       "      <td>0.000178</td>\n",
       "      <td>0.000303</td>\n",
       "      <td>0.000206</td>\n",
       "      <td>0.000122</td>\n",
       "    </tr>\n",
       "    <tr>\n",
       "      <td>AMZN</td>\n",
       "      <td>0.000216</td>\n",
       "      <td>0.000206</td>\n",
       "      <td>0.000363</td>\n",
       "      <td>0.000139</td>\n",
       "    </tr>\n",
       "    <tr>\n",
       "      <td>NKE</td>\n",
       "      <td>0.000119</td>\n",
       "      <td>0.000122</td>\n",
       "      <td>0.000139</td>\n",
       "      <td>0.000253</td>\n",
       "    </tr>\n",
       "  </tbody>\n",
       "</table>\n",
       "</div>"
      ],
      "text/plain": [
       "Symbols     GOOGL      AAPL      AMZN       NKE\n",
       "Symbols                                        \n",
       "GOOGL    0.000269  0.000178  0.000216  0.000119\n",
       "AAPL     0.000178  0.000303  0.000206  0.000122\n",
       "AMZN     0.000216  0.000206  0.000363  0.000139\n",
       "NKE      0.000119  0.000122  0.000139  0.000253"
      ]
     },
     "execution_count": 8,
     "metadata": {},
     "output_type": "execute_result"
    }
   ],
   "source": [
    "data2 = data1.pct_change().apply(lambda x: np.log(1+x)) #log percentage of change\n",
    "cov_matrix = data2.cov() # covariance \n",
    "cov_matrix"
   ]
  },
  {
   "cell_type": "code",
   "execution_count": 9,
   "metadata": {},
   "outputs": [
    {
     "data": {
      "text/plain": [
       "<matplotlib.axes._subplots.AxesSubplot at 0x1a15ade8a88>"
      ]
     },
     "execution_count": 9,
     "metadata": {},
     "output_type": "execute_result"
    },
    {
     "data": {
      "image/png": "[encoded data removed]",
      "text/plain": [
       "<Figure size 360x360 with 1 Axes>"
      ]
     },
     "metadata": {
      "needs_background": "light"
     },
     "output_type": "display_data"
    }
   ],
   "source": [
    "# calculate the returns and risk (Volatility)\n",
    "for portfolio in range (num_portfolios):\n",
    "    \n",
    "    #a.get the random numbers for weights\n",
    "    weights =np.random.random(num_assets)\n",
    "    weights = weights/np.sum(weights)\n",
    "    p_weights.append(weights)\n",
    "    \n",
    "    R_bar = data1.resample('Y').last().pct_change().mean()\n",
    "    #R_bar\n",
    "    returns = np.dot(weights,R_bar)\n",
    "    p_ret.append(returns)\n",
    "    \n",
    "    var = cov_matrix.mul(weights, axis =0).mul(weights, axis=1).sum().sum() # portfolio variance\n",
    "    sd = np.sqrt(var) # daily standard deviation\n",
    "    ann_sd = sd*np.sqrt(250) #annual standard deviation = volatility\n",
    "    p_vol.append(ann_sd)\n",
    "data = {'Returns': p_ret,'Volatility':p_vol}\n",
    "\n",
    "for counter, symbol in enumerate(data1.columns.tolist()):\n",
    "    data[symbol+ 'weight'] = [w[counter] for w in p_weights]\n",
    "\n",
    "    \n",
    "portfolios = pd.DataFrame(data)\n",
    "portfolios.head() \n",
    "\n",
    "# 4 plotting  the efficient frontier graph\n",
    "portfolios.plot.scatter(x='Volatility',y ='Returns', marker ='o',s =10, alpha =0.3,grid = True, figsize=[5,5])"
   ]
  },
  {
   "cell_type": "code",
   "execution_count": 10,
   "metadata": {},
   "outputs": [
    {
     "data": {
      "text/plain": [
       "0.014969532163264042"
      ]
     },
     "execution_count": 10,
     "metadata": {},
     "output_type": "execute_result"
    }
   ],
   "source": [
    "sd"
   ]
  },
  {
   "cell_type": "code",
   "execution_count": null,
   "metadata": {},
   "outputs": [],
   "source": []
  },
  {
   "cell_type": "code",
   "execution_count": null,
   "metadata": {},
   "outputs": [],
   "source": []
  },
  {
   "cell_type": "code",
   "execution_count": null,
   "metadata": {},
   "outputs": [],
   "source": []
  }
 ],
 "metadata": {
  "kernelspec": {
   "display_name": "Python 3",
   "language": "python",
   "name": "python3"
  },
  "language_info": {
   "codemirror_mode": {
    "name": "ipython",
    "version": 3
   },
   "file_extension": ".py",
   "mimetype": "text/x-python",
   "name": "python",
   "nbconvert_exporter": "python",
   "pygments_lexer": "ipython3",
   "version": "3.7.4"
  }
 },
 "nbformat": 4,
 "nbformat_minor": 2
}
